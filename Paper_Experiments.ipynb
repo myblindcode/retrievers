{
 "cells": [
  {
   "cell_type": "markdown",
   "metadata": {
    "id": "SpwQMve786nl"
   },
   "source": [
    "# Installs"
   ]
  },
  {
   "cell_type": "code",
   "execution_count": null,
   "metadata": {
    "colab": {
     "base_uri": "https://localhost:8080/"
    },
    "id": "wqsfKled841p",
    "outputId": "64233305-dd0d-4b6a-ed30-907634ab8e6b",
    "tags": []
   },
   "outputs": [],
   "source": [
    "!pip install transformers -q\n",
    "!pip install sentence-transformers -q\n",
    "!pip install gdown -q"
   ]
  },
  {
   "cell_type": "markdown",
   "metadata": {
    "id": "4J0-7BuKOekP"
   },
   "source": [
    "## Pytorch CUDA config"
   ]
  },
  {
   "cell_type": "code",
   "execution_count": 1,
   "metadata": {
    "id": "vPDWGrOAOfDc",
    "tags": []
   },
   "outputs": [],
   "source": [
    "!export PYTORCH_CUDA_ALLOC_CONF=garbage_collection_threshold:0.6"
   ]
  },
  {
   "cell_type": "markdown",
   "metadata": {
    "id": "sUI1-2PS9hoU"
   },
   "source": [
    "# Paths"
   ]
  },
  {
   "cell_type": "code",
   "execution_count": 2,
   "metadata": {
    "id": "_knKrj3w9hAF",
    "tags": []
   },
   "outputs": [],
   "source": [
    "EMBEDDINGS_PATH = './embeddings/'\n",
    "CSFCUBE_REPO_PATH = './CSFCube-repo/'\n",
    "CSFCUBE_EVAL_SCRIPTS_PATH = './CSFCube-master/'\n",
    "EMBEDDINGS_PATH = './EMBEDDINGS2/'"
   ]
  },
  {
   "cell_type": "code",
   "execution_count": 3,
   "metadata": {
    "id": "GO_wq8UqL7np",
    "tags": []
   },
   "outputs": [],
   "source": [
    "import os\n",
    "\n",
    "if not os.path.exists(EMBEDDINGS_PATH):\n",
    "    os.mkdir(EMBEDDINGS_PATH)"
   ]
  },
  {
   "cell_type": "markdown",
   "metadata": {
    "id": "pdhw6EoQ9gK8"
   },
   "source": [
    "# CSFCube"
   ]
  },
  {
   "cell_type": "code",
   "execution_count": 4,
   "metadata": {
    "tags": []
   },
   "outputs": [
    {
     "name": "stdout",
     "output_type": "stream",
     "text": [
      "Hit:1 https://developer.download.nvidia.com/compute/cuda/repos/ubuntu2204/x86_64  InRelease\n",
      "Hit:2 http://security.ubuntu.com/ubuntu jammy-security InRelease               \n",
      "Hit:3 http://archive.ubuntu.com/ubuntu jammy InRelease                      \n",
      "Get:4 http://archive.ubuntu.com/ubuntu jammy-updates InRelease [119 kB]\n",
      "Hit:5 http://archive.ubuntu.com/ubuntu jammy-backports InRelease\n",
      "Fetched 119 kB in 1s (155 kB/s)\n",
      "Reading package lists... Done\n"
     ]
    }
   ],
   "source": [
    "!apt-get update -y"
   ]
  },
  {
   "cell_type": "code",
   "execution_count": 5,
   "metadata": {
    "tags": []
   },
   "outputs": [
    {
     "name": "stdout",
     "output_type": "stream",
     "text": [
      "Reading package lists... Done\n",
      "Building dependency tree... Done\n",
      "Reading state information... Done\n",
      "git-all is already the newest version (1:2.34.1-1ubuntu1.10).\n",
      "0 upgraded, 0 newly installed, 0 to remove and 42 not upgraded.\n",
      "Reading package lists... Done\n",
      "Building dependency tree... Done\n",
      "Reading state information... Done\n",
      "zip is already the newest version (3.0-12build2).\n",
      "0 upgraded, 0 newly installed, 0 to remove and 42 not upgraded.\n"
     ]
    }
   ],
   "source": [
    "!apt-get install git-all -y\n",
    "!apt-get install zip -y"
   ]
  },
  {
   "cell_type": "markdown",
   "metadata": {
    "id": "EFu3Ko_6_g2q"
   },
   "source": [
    "## Clone CSFCube Repository"
   ]
  },
  {
   "cell_type": "code",
   "execution_count": 6,
   "metadata": {
    "colab": {
     "base_uri": "https://localhost:8080/"
    },
    "id": "09UrPwDa9vLE",
    "outputId": "3bc57348-145d-4433-b66e-081335b1dde1",
    "tags": []
   },
   "outputs": [
    {
     "name": "stdout",
     "output_type": "stream",
     "text": [
      "fatal: destination path './CSFCube-repo' already exists and is not an empty directory.\n"
     ]
    }
   ],
   "source": [
    "!git clone https://github.com/iesl/CSFCube.git $CSFCUBE_REPO_PATH"
   ]
  },
  {
   "cell_type": "markdown",
   "metadata": {
    "id": "dQzlu7Na_mIL"
   },
   "source": [
    "## Download Custom Version\n",
    "\n",
    "The eval scripts was changed to output all metrics (nDCG, MAP, etc) as a dict."
   ]
  },
  {
   "cell_type": "code",
   "execution_count": 7,
   "metadata": {
    "colab": {
     "base_uri": "https://localhost:8080/"
    },
    "id": "U1XwTi1W9-Vc",
    "outputId": "95a64dd7-d542-4b76-d7c3-f795ecfbf176",
    "tags": []
   },
   "outputs": [
    {
     "name": "stdout",
     "output_type": "stream",
     "text": [
      "Downloading...\n",
      "From: https://drive.google.com/uc?id=1-Ltm1fAhXPW64XROBmX_qc_WOiLr4AGX\n",
      "To: /notebooks/paper2/CSFCube-master.zip\n",
      "100%|██████████████████████████████████████| 5.50M/5.50M [00:00<00:00, 68.5MB/s]\n"
     ]
    }
   ],
   "source": [
    "!gdown '1-Ltm1fAhXPW64XROBmX_qc_WOiLr4AGX'"
   ]
  },
  {
   "cell_type": "code",
   "execution_count": 8,
   "metadata": {
    "colab": {
     "base_uri": "https://localhost:8080/"
    },
    "id": "mpoUTxM5-zXM",
    "outputId": "aa8d1db8-166d-4464-f65c-db5832cc66c4",
    "tags": []
   },
   "outputs": [
    {
     "name": "stdout",
     "output_type": "stream",
     "text": [
      "Archive:  CSFCube-master.zip\n",
      "  inflating: CSFCube-master/abstracts-csfcube-preds.jsonl  \n",
      "  inflating: CSFCube-master/queries-release.csv  \n",
      "  inflating: CSFCube-master/README.md  \n",
      " extracting: CSFCube-master/.gitignore  \n",
      "  inflating: CSFCube-master/test-pid2pool-csfcube.json  \n",
      "  inflating: CSFCube-master/test-pid2anns-csfcube-method.json  \n",
      "  inflating: CSFCube-master/ann_guidelines.pdf  \n",
      "  inflating: CSFCube-master/readable_annotations/6431039-background-adju.txt  \n",
      "  inflating: CSFCube-master/readable_annotations/10695055-background-adju.txt  \n",
      "  inflating: CSFCube-master/readable_annotations/7898033-background-adju.txt  \n",
      "  inflating: CSFCube-master/readable_annotations/8781666-background-adju.txt  \n",
      "  inflating: CSFCube-master/readable_annotations/1936997-background-adju.txt  \n",
      "  inflating: CSFCube-master/readable_annotations/6431039-result-adju.txt  \n",
      "  inflating: CSFCube-master/readable_annotations/53080736-result-adju.txt  \n",
      "  inflating: CSFCube-master/readable_annotations/5052952-method-adju.txt  \n",
      "  inflating: CSFCube-master/readable_annotations/5270848-method-adju.txt  \n",
      "  inflating: CSFCube-master/readable_annotations/1198964-result-adju.txt  \n",
      "  inflating: CSFCube-master/readable_annotations/1587-background-adju.txt  \n",
      "  inflating: CSFCube-master/readable_annotations/2090262-result-adju.txt  \n",
      "  inflating: CSFCube-master/readable_annotations/52194540-background-adju.txt  \n",
      "  inflating: CSFCube-master/readable_annotations/1587-result-adju.txt  \n",
      "  inflating: CSFCube-master/readable_annotations/11844559-background-adju.txt  \n",
      "  inflating: CSFCube-master/readable_annotations/11310392-method-adju.txt  \n",
      "  inflating: CSFCube-master/readable_annotations/1198964-method-adju.txt  \n",
      "  inflating: CSFCube-master/readable_annotations/10014168-background-adju.txt  \n",
      "  inflating: CSFCube-master/readable_annotations/189897839-background-adju.txt  \n",
      "  inflating: CSFCube-master/readable_annotations/1791179-background-adju.txt  \n",
      "  inflating: CSFCube-master/readable_annotations/2865563-result-adju.txt  \n",
      "  inflating: CSFCube-master/readable_annotations/52194540-method-adju.txt  \n",
      "  inflating: CSFCube-master/readable_annotations/53080736-method-adju.txt  \n",
      "  inflating: CSFCube-master/readable_annotations/80628431-result-adju.txt  \n",
      "  inflating: CSFCube-master/readable_annotations/2360770-result-adju.txt  \n",
      "  inflating: CSFCube-master/readable_annotations/189897839-method-adju.txt  \n",
      "  inflating: CSFCube-master/readable_annotations/13949438-method-adju.txt  \n",
      "  inflating: CSFCube-master/readable_annotations/929877-background-adju.txt  \n",
      "  inflating: CSFCube-master/readable_annotations/8781666-result-adju.txt  \n",
      "  inflating: CSFCube-master/readable_annotations/2468783-method-adju.txt  \n",
      "  inflating: CSFCube-master/readable_annotations/51977123-background-adju.txt  \n",
      "  inflating: CSFCube-master/readable_annotations/5052952-result-adju.txt  \n",
      "  inflating: CSFCube-master/readable_annotations/3264891-background-adju.txt  \n",
      "  inflating: CSFCube-master/readable_annotations/174799296-method-adju.txt  \n",
      "  inflating: CSFCube-master/readable_annotations/80628431-method-adju.txt  \n",
      "  inflating: CSFCube-master/readable_annotations/2468783-result-adju.txt  \n",
      "  inflating: CSFCube-master/readable_annotations/929877-method-adju.txt  \n",
      "  inflating: CSFCube-master/readable_annotations/53082542-method-adju.txt  \n",
      "  inflating: CSFCube-master/readable_annotations/1306065-result-adju.txt  \n",
      "  inflating: CSFCube-master/readable_annotations/1936997-method-adju.txt  \n",
      "  inflating: CSFCube-master/readable_annotations/6173686-background-adju.txt  \n",
      "  inflating: CSFCube-master/readable_annotations/102353905-method-adju.txt  \n",
      "  inflating: CSFCube-master/readable_annotations/11629674-result-adju.txt  \n",
      "  inflating: CSFCube-master/readable_annotations/174799296-result-adju.txt  \n",
      "  inflating: CSFCube-master/readable_annotations/3264891-result-adju.txt  \n",
      "  inflating: CSFCube-master/readable_annotations/11844559-result-adju.txt  \n",
      "  inflating: CSFCube-master/readable_annotations/10052042-result-adju.txt  \n",
      "  inflating: CSFCube-master/readable_annotations/10010426-method-adju.txt  \n",
      "  inflating: CSFCube-master/readable_annotations/5764728-background-adju.txt  \n",
      "  inflating: CSFCube-master/readable_annotations/1791179-method-adju.txt  \n",
      "  inflating: CSFCube-master/datasheet.md  \n",
      "  inflating: CSFCube-master/LICENSE.md  \n",
      "  inflating: CSFCube-master/test-pid2anns-csfcube-background.json  \n",
      "  inflating: CSFCube-master/evaluation_splits.json  \n",
      "  inflating: CSFCube-master/eval_scripts/sample_ranked_pools/test-pid2pool-csfcube-specter-background-ranked.json  \n",
      "  inflating: CSFCube-master/eval_scripts/sample_ranked_pools/test-pid2pool-csfcube-specter-result-ranked.json  \n",
      "  inflating: CSFCube-master/eval_scripts/sample_ranked_pools/test-pid2pool-csfcube-specter-method-ranked.json  \n",
      " extracting: CSFCube-master/eval_scripts/requirements.txt  \n",
      "  inflating: CSFCube-master/eval_scripts/rank_metrics.py  \n",
      "  inflating: CSFCube-master/eval_scripts/ranking_eval.py  \n",
      "  inflating: CSFCube-master/eval_scripts/__pycache__/rank_metrics.cpython-39.pyc  \n",
      "  inflating: CSFCube-master/eval_scripts/__pycache__/ranking_eval.cpython-39.pyc  \n",
      "  inflating: CSFCube-master/test-pid2anns-csfcube-result.json  \n"
     ]
    }
   ],
   "source": [
    "!unzip -o CSFCube-master.zip"
   ]
  },
  {
   "cell_type": "markdown",
   "metadata": {
    "id": "QMXFWWgL_gR7"
   },
   "source": [
    "## Read all Paper Abstracts"
   ]
  },
  {
   "cell_type": "markdown",
   "metadata": {
    "id": "By6VDLEPi4QF"
   },
   "source": [
    "## Read Abstracts"
   ]
  },
  {
   "cell_type": "code",
   "execution_count": 9,
   "metadata": {
    "id": "JVR0_AKYi5Z-",
    "tags": []
   },
   "outputs": [],
   "source": [
    "import json\n",
    "\n",
    "pid2abstract = {}\n",
    "\n",
    "# Read in paper text data.\n",
    "with open(f\"{CSFCUBE_REPO_PATH}abstracts-csfcube-preds.jsonl\", 'r', encoding='utf-8') as absfile:\n",
    "    for line in absfile:\n",
    "        injson = json.loads(line.strip())\n",
    "        pid2abstract[injson['paper_id']] = injson"
   ]
  },
  {
   "cell_type": "code",
   "execution_count": 10,
   "metadata": {
    "id": "uArvG4lvBhyC",
    "tags": []
   },
   "outputs": [],
   "source": [
    "# Calculate the len of each document\n",
    "for paper_id in pid2abstract:\n",
    "  paper_dict = pid2abstract[paper_id]\n",
    "  pid2abstract[paper_id]['len'] = len(paper_dict['title'] + ' ' + ' '.join(paper_dict['abstract']))"
   ]
  },
  {
   "cell_type": "code",
   "execution_count": 11,
   "metadata": {
    "id": "6xsWaAeUBjYj",
    "tags": []
   },
   "outputs": [],
   "source": [
    "# Order by the len, results in less padding and accelerates inference\n",
    "pid2abstract = dict(sorted(pid2abstract.items(), key=lambda x:x[1]['len']))"
   ]
  },
  {
   "cell_type": "markdown",
   "metadata": {
    "id": "e7niTAss_XPk"
   },
   "source": [
    "# Generate Embeddings"
   ]
  },
  {
   "cell_type": "markdown",
   "metadata": {
    "id": "W1-ujJCV9HU1"
   },
   "source": [
    "## Functions"
   ]
  },
  {
   "cell_type": "code",
   "execution_count": 12,
   "metadata": {
    "id": "aCNypnKr9IDS",
    "tags": []
   },
   "outputs": [],
   "source": [
    "from sentence_transformers import SentenceTransformer\n",
    "from transformers import AutoModelForMaskedLM, AutoTokenizer\n",
    "from tqdm.auto import tqdm\n",
    "import torch\n",
    "from typing import Dict, List\n",
    "\n",
    "device = torch.device('cuda') if torch.cuda.is_available() else torch.device('cpu')\n",
    "\n",
    "@torch.no_grad()\n",
    "def get_dense_embeddings(dense_model, texts):\n",
    "    return dense_model.encode(texts, convert_to_tensor='True')\n",
    "\n",
    "@torch.no_grad()\n",
    "def get_sparse_embeddings(sparse_model, tokenizer, texts: List[str]):\n",
    "    tokens = tokenizer(texts,\n",
    "                       return_tensors='pt',\n",
    "                       padding='longest',\n",
    "                       truncation=True,)\n",
    "    \n",
    "    output = sparse_model(**tokens.to(device))\n",
    "    \n",
    "    vec = torch.max(\n",
    "        torch.log(\n",
    "            1 + torch.relu(output.logits)\n",
    "        ) * tokens.attention_mask.unsqueeze(-1),\n",
    "    dim=1)[0]\n",
    "    \n",
    "    return vec\n",
    "\n",
    "@torch.no_grad()\n",
    "def generate_embeddings(**kwargs):\n",
    "\n",
    "    model_type = kwargs['model_type']\n",
    "    model_id = kwargs['model_id']\n",
    "    tokenizer_id = None\n",
    "    if 'tokenizer_id' in kwargs:\n",
    "        tokenizer_id = kwargs['tokenizer_id']\n",
    "    batch_size = kwargs['batch_size']\n",
    "\n",
    "    if model_type == \"dense\":\n",
    "        model = SentenceTransformer(model_id)\n",
    "    elif model_type == \"sparse\":\n",
    "        model = AutoModelForMaskedLM.from_pretrained(model_id).to(device)\n",
    "        model.eval()\n",
    "        if not tokenizer_id:\n",
    "            tokenizer = AutoTokenizer.from_pretrained(model_id)\n",
    "        else:\n",
    "            tokenizer = AutoTokenizer.from_pretrained(tokenizer_id)\n",
    "        if tokenizer.model_max_length > 1024:\n",
    "            tokenizer.model_max_length = 512\n",
    "\n",
    "    output_embeddings = {}\n",
    "\n",
    "    paper_ids = list(pid2abstract.keys())\n",
    "\n",
    "    for i in tqdm(range(0, len(paper_ids), batch_size)):\n",
    "        batch_papers_ids = paper_ids[i:i+batch_size]\n",
    "\n",
    "        papers_batch_text = []\n",
    "        for batch_paper_id in batch_papers_ids:\n",
    "            paper_dict = pid2abstract[batch_paper_id]\n",
    "\n",
    "            paper_title = paper_dict['title']\n",
    "            paper_abstract = ' '.join(paper_dict['abstract'])\n",
    "\n",
    "            if model_type == \"dense\":\n",
    "                paper_title = paper_title.lower()\n",
    "                paper_abstract = paper_abstract.lower()\n",
    "\n",
    "                paper_input_text = paper_title + model.tokenizer.sep_token + paper_abstract\n",
    "            elif model_type == \"sparse\":\n",
    "                paper_input_text = paper_title + ' ' + paper_abstract\n",
    "            papers_batch_text.append(paper_input_text)\n",
    "\n",
    "        if model_type == \"dense\":\n",
    "            embeddings = get_dense_embeddings(model, papers_batch_text)\n",
    "        else:\n",
    "            embeddings = get_sparse_embeddings(model, tokenizer, papers_batch_text)\n",
    "\n",
    "        for embedding, paper_id in zip(embeddings, batch_papers_ids):\n",
    "            output_embeddings[paper_id] = embedding.detach().cpu()\n",
    "\n",
    "    return output_embeddings"
   ]
  },
  {
   "cell_type": "code",
   "execution_count": 13,
   "metadata": {
    "id": "4OGK9SwxJY7J",
    "tags": []
   },
   "outputs": [
    {
     "data": {
      "application/vnd.jupyter.widget-view+json": {
       "model_id": "c721598cd82e4a8db7e1b03709b98357",
       "version_major": 2,
       "version_minor": 0
      },
      "text/plain": [
       "  0%|          | 0/3 [00:00<?, ?it/s]"
      ]
     },
     "metadata": {},
     "output_type": "display_data"
    },
    {
     "name": "stdout",
     "output_type": "stream",
     "text": [
      "gubartz/dense_model\n"
     ]
    },
    {
     "data": {
      "application/vnd.jupyter.widget-view+json": {
       "model_id": "e425b491d03348c0bb85793481104304",
       "version_major": 2,
       "version_minor": 0
      },
      "text/plain": [
       "  0%|          | 0/33 [00:00<?, ?it/s]"
      ]
     },
     "metadata": {},
     "output_type": "display_data"
    },
    {
     "name": "stdout",
     "output_type": "stream",
     "text": [
      "naver/splade-cocondenser-ensembledistil\n"
     ]
    },
    {
     "data": {
      "application/vnd.jupyter.widget-view+json": {
       "model_id": "4f86dbbb19d04aa99a7e339db31e1e9f",
       "version_major": 2,
       "version_minor": 0
      },
      "text/plain": [
       "  0%|          | 0/132 [00:00<?, ?it/s]"
      ]
     },
     "metadata": {},
     "output_type": "display_data"
    },
    {
     "name": "stdout",
     "output_type": "stream",
     "text": [
      "gubartz/sparse_model\n"
     ]
    },
    {
     "data": {
      "application/vnd.jupyter.widget-view+json": {
       "model_id": "fb928a886f194d70879c7e25df933322",
       "version_major": 2,
       "version_minor": 0
      },
      "text/plain": [
       "  0%|          | 0/132 [00:00<?, ?it/s]"
      ]
     },
     "metadata": {},
     "output_type": "display_data"
    }
   ],
   "source": [
    "import pickle\n",
    "\n",
    "models = [\n",
    "    {\n",
    "        \"model_id\": \"gubartz/dense_model\",\n",
    "        \"model_name\": \"hf_dense_model\",\n",
    "        \"batch_size\": 128,\n",
    "        \"model_type\": \"dense\"\n",
    "    },\n",
    "    {\n",
    "        \"model_id\": \"naver/splade-cocondenser-ensembledistil\",\n",
    "        \"model_name\": \"splade-cocondenser-ensembledistil\",\n",
    "        \"batch_size\": 32,\n",
    "        \"model_type\": \"sparse\"},\n",
    "    {\n",
    "        \"model_id\": \"gubartz/sparse_model\",\n",
    "        \"model_name\": \"hf_sparse_model\",\n",
    "        \"batch_size\": 32,\n",
    "        \"model_type\": \"sparse\",\n",
    "        \"tokenizer_id\": \"allenai/scibert_scivocab_uncased\"\n",
    "    }\n",
    "]\n",
    "\n",
    "for model in tqdm(models):\n",
    "    print(model['model_id'])\n",
    "    embeddings = generate_embeddings(**model)\n",
    "    model['embeddings'] = embeddings\n",
    "\n",
    "    model_name = model['model_name']\n",
    "    '''\n",
    "    file_name = f\"{model['model_type']}_{model_name}.plk\"\n",
    "    save_path = f\"{EMBEDDINGS_PATH}{file_name}\"\n",
    "    with open(save_path, \"wb\") as fOut:\n",
    "        pickle.dump(model, fOut, protocol=pickle.HIGHEST_PROTOCOL)'''"
   ]
  },
  {
   "cell_type": "code",
   "execution_count": 14,
   "metadata": {
    "tags": []
   },
   "outputs": [],
   "source": [
    "del embeddings"
   ]
  },
  {
   "cell_type": "markdown",
   "metadata": {
    "id": "l7ZDJFJGFJfh"
   },
   "source": [
    "# First Stage Results"
   ]
  },
  {
   "cell_type": "code",
   "execution_count": 15,
   "metadata": {
    "id": "YlAsZD-LFKPQ",
    "tags": []
   },
   "outputs": [],
   "source": [
    "import sys\n",
    "\n",
    "if f\"{CSFCUBE_EVAL_SCRIPTS_PATH}eval_scripts\" not in sys.path:\n",
    "    sys.path.append(f\"{CSFCUBE_EVAL_SCRIPTS_PATH}eval_scripts\")"
   ]
  },
  {
   "cell_type": "code",
   "execution_count": 16,
   "metadata": {
    "id": "Sf_ugtVgRs4-",
    "tags": []
   },
   "outputs": [],
   "source": [
    "import json\n",
    "import ranking_eval\n",
    "\n",
    "cos = torch.nn.CosineSimilarity(dim=0)\n",
    "\n",
    "def run_experiment(facet, experiment_name, doc_dense_embeddings, doc_sparse_embeddings, split='test'):\n",
    "    if facet == 'all':\n",
    "        result = ranking_eval.graded_eval_pool_rerank(data_path=f'{CSFCUBE_EVAL_SCRIPTS_PATH}',\n",
    "                                                      method_name=experiment_name,\n",
    "                                                      facet=facet,\n",
    "                                                      dataset='csfcube',\n",
    "                                                      run_path='./',\n",
    "                                                      split=split)\n",
    "        return result\n",
    "\n",
    "    # Read in pools for the queries per facet.\n",
    "    with open(f\"{CSFCUBE_EVAL_SCRIPTS_PATH}test-pid2anns-csfcube-\" + facet + '.json', 'r', encoding='utf-8') as fp:\n",
    "        qpid2pool = json.load(fp)\n",
    "\n",
    "    qpid2pool_ranked = {}\n",
    "\n",
    "    for qpid in tqdm(qpid2pool.keys(), leave=False):\n",
    "        # Get the paper-ids for candidates.\n",
    "        cand_pids = qpid2pool[qpid]['cands']\n",
    "\n",
    "        if doc_dense_embeddings is not None:\n",
    "            q_dense_emb = doc_dense_embeddings[qpid]\n",
    "        if doc_sparse_embeddings is not None:\n",
    "            q_sparse_emb = doc_sparse_embeddings[qpid]\n",
    "\n",
    "        query_cand_sim = []\n",
    "\n",
    "        for cpid in cand_pids:\n",
    "            if doc_dense_embeddings is not None:\n",
    "                doc_dense_emb = doc_dense_embeddings[cpid]\n",
    "            if doc_sparse_embeddings is not None:\n",
    "                doc_sparse_emb = doc_sparse_embeddings[cpid]\n",
    "\n",
    "            if doc_dense_embeddings is not None:\n",
    "                dense_cos_sim = cos(q_dense_emb, doc_dense_emb)\n",
    "                sim = dense_cos_sim.item()\n",
    "            if doc_sparse_embeddings is not None:\n",
    "                sparse_cos_sim = cos(q_sparse_emb, doc_sparse_emb)\n",
    "                sim = sparse_cos_sim.item()\n",
    "            if doc_dense_embeddings is not None and doc_sparse_embeddings is not None:\n",
    "                sim = dense_cos_sim.item() + sparse_cos_sim.item()\n",
    "\n",
    "            query_cand_sim.append((cpid, sim))\n",
    "        # Sort the candidates in predicted rank order - query_cand_sim to smallest cosine sim.\n",
    "        ranked_pool_dense = list(sorted(query_cand_sim, key=lambda cd: cd[1], reverse=True))\n",
    "        qpid2pool_ranked[qpid] = ranked_pool_dense\n",
    "\n",
    "    # Write out the ranked pool in a format consumed by the eval script.\n",
    "    with open('test-pid2pool-csfcube-' + experiment_name + '-' + facet + '-ranked.json', 'w', encoding='utf-8') as fp:\n",
    "        json.dump(qpid2pool_ranked, fp)\n",
    "    result = ranking_eval.graded_eval_pool_rerank(data_path=f'{CSFCUBE_EVAL_SCRIPTS_PATH}',\n",
    "                                                  method_name=experiment_name,\n",
    "                                                  facet=facet,\n",
    "                                                  dataset='csfcube',\n",
    "                                                  run_path='./',\n",
    "                                                  split=split)\n",
    "    return result"
   ]
  },
  {
   "cell_type": "code",
   "execution_count": 17,
   "metadata": {
    "id": "mBgv0vFlQsDG",
    "tags": []
   },
   "outputs": [
    {
     "data": {
      "application/vnd.jupyter.widget-view+json": {
       "model_id": "",
       "version_major": 2,
       "version_minor": 0
      },
      "text/plain": [
       "  0%|          | 0/16 [00:00<?, ?it/s]"
      ]
     },
     "metadata": {},
     "output_type": "display_data"
    },
    {
     "data": {
      "application/vnd.jupyter.widget-view+json": {
       "model_id": "",
       "version_major": 2,
       "version_minor": 0
      },
      "text/plain": [
       "  0%|          | 0/17 [00:00<?, ?it/s]"
      ]
     },
     "metadata": {},
     "output_type": "display_data"
    },
    {
     "data": {
      "application/vnd.jupyter.widget-view+json": {
       "model_id": "",
       "version_major": 2,
       "version_minor": 0
      },
      "text/plain": [
       "  0%|          | 0/17 [00:00<?, ?it/s]"
      ]
     },
     "metadata": {},
     "output_type": "display_data"
    },
    {
     "data": {
      "application/vnd.jupyter.widget-view+json": {
       "model_id": "",
       "version_major": 2,
       "version_minor": 0
      },
      "text/plain": [
       "  0%|          | 0/16 [00:00<?, ?it/s]"
      ]
     },
     "metadata": {},
     "output_type": "display_data"
    },
    {
     "data": {
      "application/vnd.jupyter.widget-view+json": {
       "model_id": "",
       "version_major": 2,
       "version_minor": 0
      },
      "text/plain": [
       "  0%|          | 0/17 [00:00<?, ?it/s]"
      ]
     },
     "metadata": {},
     "output_type": "display_data"
    },
    {
     "data": {
      "application/vnd.jupyter.widget-view+json": {
       "model_id": "",
       "version_major": 2,
       "version_minor": 0
      },
      "text/plain": [
       "  0%|          | 0/17 [00:00<?, ?it/s]"
      ]
     },
     "metadata": {},
     "output_type": "display_data"
    },
    {
     "data": {
      "application/vnd.jupyter.widget-view+json": {
       "model_id": "",
       "version_major": 2,
       "version_minor": 0
      },
      "text/plain": [
       "  0%|          | 0/16 [00:00<?, ?it/s]"
      ]
     },
     "metadata": {},
     "output_type": "display_data"
    },
    {
     "data": {
      "application/vnd.jupyter.widget-view+json": {
       "model_id": "",
       "version_major": 2,
       "version_minor": 0
      },
      "text/plain": [
       "  0%|          | 0/17 [00:00<?, ?it/s]"
      ]
     },
     "metadata": {},
     "output_type": "display_data"
    },
    {
     "data": {
      "application/vnd.jupyter.widget-view+json": {
       "model_id": "",
       "version_major": 2,
       "version_minor": 0
      },
      "text/plain": [
       "  0%|          | 0/17 [00:00<?, ?it/s]"
      ]
     },
     "metadata": {},
     "output_type": "display_data"
    },
    {
     "data": {
      "application/vnd.jupyter.widget-view+json": {
       "model_id": "",
       "version_major": 2,
       "version_minor": 0
      },
      "text/plain": [
       "  0%|          | 0/16 [00:00<?, ?it/s]"
      ]
     },
     "metadata": {},
     "output_type": "display_data"
    },
    {
     "data": {
      "application/vnd.jupyter.widget-view+json": {
       "model_id": "",
       "version_major": 2,
       "version_minor": 0
      },
      "text/plain": [
       "  0%|          | 0/17 [00:00<?, ?it/s]"
      ]
     },
     "metadata": {},
     "output_type": "display_data"
    },
    {
     "data": {
      "application/vnd.jupyter.widget-view+json": {
       "model_id": "",
       "version_major": 2,
       "version_minor": 0
      },
      "text/plain": [
       "  0%|          | 0/17 [00:00<?, ?it/s]"
      ]
     },
     "metadata": {},
     "output_type": "display_data"
    }
   ],
   "source": [
    "facets = ['background', 'method', 'result', 'all']\n",
    "\n",
    "results = []\n",
    "\n",
    "#only one model\n",
    "for model in models:\n",
    "    for facet in facets:\n",
    "        embeddings = model['embeddings']\n",
    "        experiment_name = model['model_name']\n",
    "        if model['model_type'] == \"dense\":\n",
    "            result = run_experiment(facet=facet,\n",
    "                                    doc_dense_embeddings=embeddings,\n",
    "                                    doc_sparse_embeddings=None,\n",
    "                                    experiment_name=experiment_name)\n",
    "        else:\n",
    "            result = run_experiment(facet=facet,\n",
    "                                    doc_dense_embeddings=None,\n",
    "                                    doc_sparse_embeddings=embeddings,\n",
    "                                    experiment_name=experiment_name)\n",
    "        result['experiment_name'] = experiment_name\n",
    "        result['facet'] = facet\n",
    "        results.append(result)\n",
    "\n",
    "# dense + sparse\n",
    "dense_model = models[0]\n",
    "sparse_model = models[1]\n",
    "\n",
    "for facet in facets:\n",
    "    dense_embeddings = dense_model['embeddings']\n",
    "    sparse_embeddings = sparse_model['embeddings']\n",
    "    experiment_name = dense_model['model_name'] + '_' + sparse_model['model_name']\n",
    "    result = run_experiment(facet=facet,\n",
    "                            doc_dense_embeddings=dense_embeddings,\n",
    "                            doc_sparse_embeddings=sparse_embeddings,\n",
    "                            experiment_name=experiment_name)\n",
    "\n",
    "    result['experiment_name'] = dense_model['model_name'] + '+' + sparse_model['model_name']\n",
    "    result['facet'] = facet\n",
    "    results.append(result)"
   ]
  },
  {
   "cell_type": "markdown",
   "metadata": {},
   "source": [
    "# Rerank - Sparse + Dense"
   ]
  },
  {
   "cell_type": "code",
   "execution_count": 20,
   "metadata": {
    "tags": []
   },
   "outputs": [],
   "source": [
    "def run_experiment_rerank(facet, experiment_name, doc_dense_embeddings, doc_sparse_embeddings, split='test'):\n",
    "    if facet == 'all':\n",
    "        result = ranking_eval.graded_eval_pool_rerank(data_path=f'{CSFCUBE_EVAL_SCRIPTS_PATH}',\n",
    "                                                      method_name=experiment_name,\n",
    "                                                      facet=facet,\n",
    "                                                      dataset='csfcube',\n",
    "                                                      run_path='./',\n",
    "                                                      split=split)\n",
    "        return result\n",
    "\n",
    "    # Read in pools for the queries per facet.\n",
    "    with open(f\"{CSFCUBE_EVAL_SCRIPTS_PATH}test-pid2anns-csfcube-\" + facet + '.json', 'r', encoding='utf-8') as fp:\n",
    "        qpid2pool = json.load(fp)\n",
    "\n",
    "    qpid2pool_ranked = {}\n",
    "\n",
    "    for qpid in tqdm(qpid2pool.keys(), leave=False):\n",
    "        # Get the paper-ids for candidates.\n",
    "        cand_pids = qpid2pool[qpid]['cands']\n",
    "        \n",
    "        # first stage\n",
    "        q_sparse_emb = doc_sparse_embeddings[qpid]\n",
    "        query_cand_sim = []\n",
    "        for cpid in cand_pids:\n",
    "            doc_sparse_emb = doc_sparse_embeddings[cpid]\n",
    "            sparse_cos_sim = cos(q_sparse_emb, doc_sparse_emb).item()\n",
    "            query_cand_sim.append((cpid, sparse_cos_sim))\n",
    "\n",
    "        # Sort the candidates in predicted rank order - query_cand_sim to smallest cosine sim.\n",
    "        ranked_pool_sparse = list(sorted(query_cand_sim, key=lambda cd: cd[1], reverse=True))\n",
    "        \n",
    "        # rerank\n",
    "        cand_50_len = int(len(cand_pids) * 0.5)\n",
    "        q_dense_emb = doc_dense_embeddings[qpid]\n",
    "        query_cand_sim_rerank = []\n",
    "        \n",
    "        for ranked in ranked_pool_sparse[:cand_50_len]:\n",
    "            cpid = ranked[0]\n",
    "            doc_dense_emb = doc_dense_embeddings[cpid]\n",
    "            dense_cos_sim = cos(q_dense_emb, doc_dense_emb).item()\n",
    "            query_cand_sim_rerank.append((cpid, dense_cos_sim))\n",
    "        \n",
    "        # Sort the candidates in predicted rank order - query_cand_sim to smallest cosine sim.\n",
    "        ranked_pool = list(sorted(query_cand_sim_rerank, key=lambda cd: cd[1], reverse=True))\n",
    "        qpid2pool_ranked[qpid] = ranked_pool\n",
    "\n",
    "\n",
    "    # Write out the ranked pool in a format consumed by the eval script.\n",
    "    with open('test-pid2pool-csfcube-' + experiment_name + '-' + facet + '-ranked.json', 'w', encoding='utf-8') as fp:\n",
    "        json.dump(qpid2pool_ranked, fp)\n",
    "    result = ranking_eval.graded_eval_pool_rerank(data_path=f'{CSFCUBE_EVAL_SCRIPTS_PATH}',\n",
    "                                                  method_name=experiment_name,\n",
    "                                                  facet=facet,\n",
    "                                                  dataset='csfcube',\n",
    "                                                  run_path='./',\n",
    "                                                  split=split)\n",
    "    return result"
   ]
  },
  {
   "cell_type": "code",
   "execution_count": 21,
   "metadata": {
    "tags": []
   },
   "outputs": [
    {
     "data": {
      "application/vnd.jupyter.widget-view+json": {
       "model_id": "",
       "version_major": 2,
       "version_minor": 0
      },
      "text/plain": [
       "  0%|          | 0/16 [00:00<?, ?it/s]"
      ]
     },
     "metadata": {},
     "output_type": "display_data"
    },
    {
     "data": {
      "application/vnd.jupyter.widget-view+json": {
       "model_id": "",
       "version_major": 2,
       "version_minor": 0
      },
      "text/plain": [
       "  0%|          | 0/17 [00:00<?, ?it/s]"
      ]
     },
     "metadata": {},
     "output_type": "display_data"
    },
    {
     "data": {
      "application/vnd.jupyter.widget-view+json": {
       "model_id": "",
       "version_major": 2,
       "version_minor": 0
      },
      "text/plain": [
       "  0%|          | 0/17 [00:00<?, ?it/s]"
      ]
     },
     "metadata": {},
     "output_type": "display_data"
    }
   ],
   "source": [
    "dense_model = models[0]\n",
    "sparse_model = models[1]\n",
    "\n",
    "for facet in facets:\n",
    "    dense_embeddings = dense_model['embeddings']\n",
    "    sparse_embeddings = sparse_model['embeddings']\n",
    "    experiment_name = sparse_model['model_name'] + '_' + dense_model['model_name']\n",
    "    result = run_experiment_rerank(facet=facet,\n",
    "                                   doc_dense_embeddings=dense_embeddings,\n",
    "                                   doc_sparse_embeddings=sparse_embeddings,\n",
    "                                   experiment_name=experiment_name)\n",
    "\n",
    "    result['experiment_name'] = 'rerank-' + sparse_model['model_name'] + '+' + dense_model['model_name']\n",
    "    result['facet'] = facet\n",
    "    results.append(result)"
   ]
  },
  {
   "cell_type": "markdown",
   "metadata": {},
   "source": [
    "# Rerank - Dense + Sparse"
   ]
  },
  {
   "cell_type": "code",
   "execution_count": 22,
   "metadata": {
    "tags": []
   },
   "outputs": [],
   "source": [
    "def run_experiment_rerank(facet, experiment_name, doc_dense_embeddings, doc_sparse_embeddings, split='test'):\n",
    "    if facet == 'all':\n",
    "        result = ranking_eval.graded_eval_pool_rerank(data_path=f'{CSFCUBE_EVAL_SCRIPTS_PATH}',\n",
    "                                                      method_name=experiment_name,\n",
    "                                                      facet=facet,\n",
    "                                                      dataset='csfcube',\n",
    "                                                      run_path='./',\n",
    "                                                      split=split)\n",
    "        return result\n",
    "\n",
    "    # Read in pools for the queries per facet.\n",
    "    with open(f\"{CSFCUBE_EVAL_SCRIPTS_PATH}test-pid2anns-csfcube-\" + facet + '.json', 'r', encoding='utf-8') as fp:\n",
    "        qpid2pool = json.load(fp)\n",
    "\n",
    "    qpid2pool_ranked = {}\n",
    "\n",
    "    for qpid in tqdm(qpid2pool.keys(), leave=False):\n",
    "        # Get the paper-ids for candidates.\n",
    "        cand_pids = qpid2pool[qpid]['cands']\n",
    "        \n",
    "        # first stage\n",
    "        q_dense_emb = doc_dense_embeddings[qpid]\n",
    "        query_cand_sim = []\n",
    "        for cpid in cand_pids:\n",
    "            doc_dense_emb = doc_dense_embeddings[cpid]\n",
    "            dense_cos_sim = cos(q_dense_emb, doc_dense_emb).item()\n",
    "            query_cand_sim.append((cpid, dense_cos_sim))        \n",
    "\n",
    "        # Sort the candidates in predicted rank order - query_cand_sim to smallest cosine sim.\n",
    "        ranked_pool_dense = list(sorted(query_cand_sim, key=lambda cd: cd[1], reverse=True))\n",
    "        \n",
    "        # rerank\n",
    "        cand_50_len = int(len(cand_pids) * 0.5)\n",
    "        q_sparse_emb = doc_sparse_embeddings[qpid]\n",
    "        query_cand_sim_rerank = []\n",
    "        \n",
    "        for ranked in ranked_pool_dense[:cand_50_len]:\n",
    "            cpid = ranked[0]\n",
    "            doc_sparse_emb = doc_sparse_embeddings[cpid]\n",
    "            sparse_cos_sim = cos(q_sparse_emb, doc_sparse_emb).item()\n",
    "            query_cand_sim_rerank.append((cpid, sparse_cos_sim))\n",
    "        \n",
    "        # Sort the candidates in predicted rank order - query_cand_sim to smallest cosine sim.\n",
    "        ranked_pool = list(sorted(query_cand_sim_rerank, key=lambda cd: cd[1], reverse=True))\n",
    "        \n",
    "        paper_ids = set(x[0] for x in ranked_pool)\n",
    "        remain = [x for x in ranked_pool_dense if x[0] not in paper_ids]\n",
    "        ranked_pool2 = ranked_pool + remain    \n",
    "\n",
    "        qpid2pool_ranked[qpid] = ranked_pool2\n",
    "\n",
    "    # Write out the ranked pool in a format consumed by the eval script.\n",
    "    with open('test-pid2pool-csfcube-' + experiment_name + '-' + facet + '-ranked.json', 'w', encoding='utf-8') as fp:\n",
    "        json.dump(qpid2pool_ranked, fp)\n",
    "    result = ranking_eval.graded_eval_pool_rerank(data_path=f'{CSFCUBE_EVAL_SCRIPTS_PATH}',\n",
    "                                                  method_name=experiment_name,\n",
    "                                                  facet=facet,\n",
    "                                                  dataset='csfcube',\n",
    "                                                  run_path='./',\n",
    "                                                  split=split)\n",
    "    return result"
   ]
  },
  {
   "cell_type": "code",
   "execution_count": 23,
   "metadata": {
    "tags": []
   },
   "outputs": [
    {
     "data": {
      "application/vnd.jupyter.widget-view+json": {
       "model_id": "",
       "version_major": 2,
       "version_minor": 0
      },
      "text/plain": [
       "  0%|          | 0/16 [00:00<?, ?it/s]"
      ]
     },
     "metadata": {},
     "output_type": "display_data"
    },
    {
     "data": {
      "application/vnd.jupyter.widget-view+json": {
       "model_id": "",
       "version_major": 2,
       "version_minor": 0
      },
      "text/plain": [
       "  0%|          | 0/17 [00:00<?, ?it/s]"
      ]
     },
     "metadata": {},
     "output_type": "display_data"
    },
    {
     "data": {
      "application/vnd.jupyter.widget-view+json": {
       "model_id": "",
       "version_major": 2,
       "version_minor": 0
      },
      "text/plain": [
       "  0%|          | 0/17 [00:00<?, ?it/s]"
      ]
     },
     "metadata": {},
     "output_type": "display_data"
    }
   ],
   "source": [
    "dense_model = models[0]\n",
    "sparse_model = models[1]\n",
    "\n",
    "for facet in facets:\n",
    "    dense_embeddings = dense_model['embeddings']\n",
    "    sparse_embeddings = sparse_model['embeddings']\n",
    "    experiment_name = dense_model['model_name'] + \"_\" + sparse_model['model_name']\n",
    "    result = run_experiment_rerank(facet=facet,\n",
    "                                   doc_dense_embeddings=dense_embeddings,\n",
    "                                   doc_sparse_embeddings=sparse_embeddings,\n",
    "                                   experiment_name=experiment_name)\n",
    "\n",
    "    result['experiment_name'] = 'rerank-' + dense_model['model_name'] + \"+\" + sparse_model['model_name']\n",
    "    result['facet'] = facet\n",
    "    results.append(result)"
   ]
  },
  {
   "cell_type": "markdown",
   "metadata": {},
   "source": [
    "# Paper Results"
   ]
  },
  {
   "cell_type": "code",
   "execution_count": 24,
   "metadata": {
    "tags": []
   },
   "outputs": [],
   "source": [
    "import pandas as pd\n",
    "\n",
    "df = pd.DataFrame(results)\n",
    "df['ndcg%20'] = df['ndcg%20'] * 100\n",
    "df['mean_av_precision'] = df['mean_av_precision'] * 100"
   ]
  },
  {
   "cell_type": "code",
   "execution_count": 25,
   "metadata": {
    "tags": []
   },
   "outputs": [],
   "source": [
    "x = df[['experiment_name', 'facet', 'mean_av_precision', 'ndcg%20']]\n",
    "x.to_csv(\"results.csv\", decimal=\",\")"
   ]
  },
  {
   "cell_type": "code",
   "execution_count": 26,
   "metadata": {
    "tags": []
   },
   "outputs": [
    {
     "data": {
      "text/html": [
       "<div>\n",
       "<style scoped>\n",
       "    .dataframe tbody tr th:only-of-type {\n",
       "        vertical-align: middle;\n",
       "    }\n",
       "\n",
       "    .dataframe tbody tr th {\n",
       "        vertical-align: top;\n",
       "    }\n",
       "\n",
       "    .dataframe thead th {\n",
       "        text-align: right;\n",
       "    }\n",
       "</style>\n",
       "<table border=\"1\" class=\"dataframe\">\n",
       "  <thead>\n",
       "    <tr style=\"text-align: right;\">\n",
       "      <th></th>\n",
       "      <th>experiment_name</th>\n",
       "      <th>facet</th>\n",
       "      <th>mean_av_precision</th>\n",
       "      <th>ndcg%20</th>\n",
       "    </tr>\n",
       "  </thead>\n",
       "  <tbody>\n",
       "    <tr>\n",
       "      <th>0</th>\n",
       "      <td>hf_dense_model</td>\n",
       "      <td>background</td>\n",
       "      <td>55.326459</td>\n",
       "      <td>74.032761</td>\n",
       "    </tr>\n",
       "    <tr>\n",
       "      <th>1</th>\n",
       "      <td>hf_dense_model</td>\n",
       "      <td>method</td>\n",
       "      <td>26.229211</td>\n",
       "      <td>46.414835</td>\n",
       "    </tr>\n",
       "    <tr>\n",
       "      <th>2</th>\n",
       "      <td>hf_dense_model</td>\n",
       "      <td>result</td>\n",
       "      <td>41.839249</td>\n",
       "      <td>65.401976</td>\n",
       "    </tr>\n",
       "    <tr>\n",
       "      <th>3</th>\n",
       "      <td>hf_dense_model</td>\n",
       "      <td>all</td>\n",
       "      <td>40.865179</td>\n",
       "      <td>61.679622</td>\n",
       "    </tr>\n",
       "    <tr>\n",
       "      <th>4</th>\n",
       "      <td>splade-cocondenser-ensembledistil</td>\n",
       "      <td>background</td>\n",
       "      <td>48.953631</td>\n",
       "      <td>70.326641</td>\n",
       "    </tr>\n",
       "    <tr>\n",
       "      <th>5</th>\n",
       "      <td>splade-cocondenser-ensembledistil</td>\n",
       "      <td>method</td>\n",
       "      <td>31.005963</td>\n",
       "      <td>47.839076</td>\n",
       "    </tr>\n",
       "    <tr>\n",
       "      <th>6</th>\n",
       "      <td>splade-cocondenser-ensembledistil</td>\n",
       "      <td>result</td>\n",
       "      <td>38.900234</td>\n",
       "      <td>56.623795</td>\n",
       "    </tr>\n",
       "    <tr>\n",
       "      <th>7</th>\n",
       "      <td>splade-cocondenser-ensembledistil</td>\n",
       "      <td>all</td>\n",
       "      <td>39.495260</td>\n",
       "      <td>58.032655</td>\n",
       "    </tr>\n",
       "    <tr>\n",
       "      <th>8</th>\n",
       "      <td>hf_sparse_model</td>\n",
       "      <td>background</td>\n",
       "      <td>54.829069</td>\n",
       "      <td>73.818765</td>\n",
       "    </tr>\n",
       "    <tr>\n",
       "      <th>9</th>\n",
       "      <td>hf_sparse_model</td>\n",
       "      <td>method</td>\n",
       "      <td>28.977155</td>\n",
       "      <td>49.988563</td>\n",
       "    </tr>\n",
       "    <tr>\n",
       "      <th>10</th>\n",
       "      <td>hf_sparse_model</td>\n",
       "      <td>result</td>\n",
       "      <td>42.374095</td>\n",
       "      <td>63.245501</td>\n",
       "    </tr>\n",
       "    <tr>\n",
       "      <th>11</th>\n",
       "      <td>hf_sparse_model</td>\n",
       "      <td>all</td>\n",
       "      <td>41.864647</td>\n",
       "      <td>62.149573</td>\n",
       "    </tr>\n",
       "    <tr>\n",
       "      <th>12</th>\n",
       "      <td>hf_dense_model+splade-cocondenser-ensembledistil</td>\n",
       "      <td>background</td>\n",
       "      <td>59.098976</td>\n",
       "      <td>76.398999</td>\n",
       "    </tr>\n",
       "    <tr>\n",
       "      <th>13</th>\n",
       "      <td>hf_dense_model+splade-cocondenser-ensembledistil</td>\n",
       "      <td>method</td>\n",
       "      <td>31.111934</td>\n",
       "      <td>50.662940</td>\n",
       "    </tr>\n",
       "    <tr>\n",
       "      <th>14</th>\n",
       "      <td>hf_dense_model+splade-cocondenser-ensembledistil</td>\n",
       "      <td>result</td>\n",
       "      <td>43.822641</td>\n",
       "      <td>67.092427</td>\n",
       "    </tr>\n",
       "    <tr>\n",
       "      <th>15</th>\n",
       "      <td>hf_dense_model+splade-cocondenser-ensembledistil</td>\n",
       "      <td>all</td>\n",
       "      <td>44.418126</td>\n",
       "      <td>64.464656</td>\n",
       "    </tr>\n",
       "    <tr>\n",
       "      <th>16</th>\n",
       "      <td>rerank-splade-cocondenser-ensembledistil+hf_de...</td>\n",
       "      <td>background</td>\n",
       "      <td>58.851369</td>\n",
       "      <td>74.395066</td>\n",
       "    </tr>\n",
       "    <tr>\n",
       "      <th>17</th>\n",
       "      <td>rerank-splade-cocondenser-ensembledistil+hf_de...</td>\n",
       "      <td>method</td>\n",
       "      <td>32.127182</td>\n",
       "      <td>47.776530</td>\n",
       "    </tr>\n",
       "    <tr>\n",
       "      <th>18</th>\n",
       "      <td>rerank-splade-cocondenser-ensembledistil+hf_de...</td>\n",
       "      <td>result</td>\n",
       "      <td>43.183956</td>\n",
       "      <td>63.966015</td>\n",
       "    </tr>\n",
       "    <tr>\n",
       "      <th>19</th>\n",
       "      <td>rerank-splade-cocondenser-ensembledistil+hf_de...</td>\n",
       "      <td>all</td>\n",
       "      <td>44.446878</td>\n",
       "      <td>61.781473</td>\n",
       "    </tr>\n",
       "    <tr>\n",
       "      <th>20</th>\n",
       "      <td>rerank-hf_dense_model+splade-cocondenser-ensem...</td>\n",
       "      <td>background</td>\n",
       "      <td>51.322624</td>\n",
       "      <td>72.729100</td>\n",
       "    </tr>\n",
       "    <tr>\n",
       "      <th>21</th>\n",
       "      <td>rerank-hf_dense_model+splade-cocondenser-ensem...</td>\n",
       "      <td>method</td>\n",
       "      <td>31.791864</td>\n",
       "      <td>48.274426</td>\n",
       "    </tr>\n",
       "    <tr>\n",
       "      <th>22</th>\n",
       "      <td>rerank-hf_dense_model+splade-cocondenser-ensem...</td>\n",
       "      <td>result</td>\n",
       "      <td>37.450165</td>\n",
       "      <td>58.061294</td>\n",
       "    </tr>\n",
       "    <tr>\n",
       "      <th>23</th>\n",
       "      <td>rerank-hf_dense_model+splade-cocondenser-ensem...</td>\n",
       "      <td>all</td>\n",
       "      <td>40.022386</td>\n",
       "      <td>59.422949</td>\n",
       "    </tr>\n",
       "  </tbody>\n",
       "</table>\n",
       "</div>"
      ],
      "text/plain": [
       "                                      experiment_name       facet  \\\n",
       "0                                      hf_dense_model  background   \n",
       "1                                      hf_dense_model      method   \n",
       "2                                      hf_dense_model      result   \n",
       "3                                      hf_dense_model         all   \n",
       "4                   splade-cocondenser-ensembledistil  background   \n",
       "5                   splade-cocondenser-ensembledistil      method   \n",
       "6                   splade-cocondenser-ensembledistil      result   \n",
       "7                   splade-cocondenser-ensembledistil         all   \n",
       "8                                     hf_sparse_model  background   \n",
       "9                                     hf_sparse_model      method   \n",
       "10                                    hf_sparse_model      result   \n",
       "11                                    hf_sparse_model         all   \n",
       "12   hf_dense_model+splade-cocondenser-ensembledistil  background   \n",
       "13   hf_dense_model+splade-cocondenser-ensembledistil      method   \n",
       "14   hf_dense_model+splade-cocondenser-ensembledistil      result   \n",
       "15   hf_dense_model+splade-cocondenser-ensembledistil         all   \n",
       "16  rerank-splade-cocondenser-ensembledistil+hf_de...  background   \n",
       "17  rerank-splade-cocondenser-ensembledistil+hf_de...      method   \n",
       "18  rerank-splade-cocondenser-ensembledistil+hf_de...      result   \n",
       "19  rerank-splade-cocondenser-ensembledistil+hf_de...         all   \n",
       "20  rerank-hf_dense_model+splade-cocondenser-ensem...  background   \n",
       "21  rerank-hf_dense_model+splade-cocondenser-ensem...      method   \n",
       "22  rerank-hf_dense_model+splade-cocondenser-ensem...      result   \n",
       "23  rerank-hf_dense_model+splade-cocondenser-ensem...         all   \n",
       "\n",
       "    mean_av_precision    ndcg%20  \n",
       "0           55.326459  74.032761  \n",
       "1           26.229211  46.414835  \n",
       "2           41.839249  65.401976  \n",
       "3           40.865179  61.679622  \n",
       "4           48.953631  70.326641  \n",
       "5           31.005963  47.839076  \n",
       "6           38.900234  56.623795  \n",
       "7           39.495260  58.032655  \n",
       "8           54.829069  73.818765  \n",
       "9           28.977155  49.988563  \n",
       "10          42.374095  63.245501  \n",
       "11          41.864647  62.149573  \n",
       "12          59.098976  76.398999  \n",
       "13          31.111934  50.662940  \n",
       "14          43.822641  67.092427  \n",
       "15          44.418126  64.464656  \n",
       "16          58.851369  74.395066  \n",
       "17          32.127182  47.776530  \n",
       "18          43.183956  63.966015  \n",
       "19          44.446878  61.781473  \n",
       "20          51.322624  72.729100  \n",
       "21          31.791864  48.274426  \n",
       "22          37.450165  58.061294  \n",
       "23          40.022386  59.422949  "
      ]
     },
     "execution_count": 26,
     "metadata": {},
     "output_type": "execute_result"
    }
   ],
   "source": [
    "df[['experiment_name', 'facet', 'mean_av_precision', 'ndcg%20']]"
   ]
  },
  {
   "cell_type": "code",
   "execution_count": null,
   "metadata": {},
   "outputs": [],
   "source": []
  }
 ],
 "metadata": {
  "accelerator": "GPU",
  "colab": {
   "gpuType": "T4",
   "provenance": []
  },
  "kernelspec": {
   "display_name": "Python 3 (ipykernel)",
   "language": "python",
   "name": "python3"
  },
  "language_info": {
   "codemirror_mode": {
    "name": "ipython",
    "version": 3
   },
   "file_extension": ".py",
   "mimetype": "text/x-python",
   "name": "python",
   "nbconvert_exporter": "python",
   "pygments_lexer": "ipython3",
   "version": "3.10.12"
  }
 },
 "nbformat": 4,
 "nbformat_minor": 4
}
